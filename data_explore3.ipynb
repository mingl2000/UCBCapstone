{
 "cells": [
  {
   "cell_type": "code",
   "execution_count": 1,
   "id": "3ec30fed",
   "metadata": {},
   "outputs": [],
   "source": [
    "import pandas as pd\n",
    "import sys\n",
    "import os\n",
    "import argparse\n",
    "import numpy as np\n",
    "import matplotlib.pyplot as plt\n",
    "import seaborn as sns\n",
    "plt.rcParams['font.family'] = 'SimHei'"
   ]
  },
  {
   "cell_type": "markdown",
   "id": "ef961eb7",
   "metadata": {},
   "source": [
    "### study the index future and its relationship to CSI 300 index"
   ]
  },
  {
   "cell_type": "code",
   "execution_count": 4,
   "id": "1b99e9d6",
   "metadata": {},
   "outputs": [],
   "source": [
    "def read_idx_future():\n",
    "    df_future =pd.read_csv('data/future_IF.csv', encoding=\"gb18030\")\n",
    "    df_future=df_future.rename(columns={'Unnamed: 0':'dealer'})\n",
    "    df_future['datetime']=pd.to_datetime(df_future['datetime'], format='%Y%m%d')\n",
    "    return df_future\n",
    "\n",
    "def get_idx_future_top_traders(df_future, n):\n",
    "    df_trader_vol= pd.DataFrame(df_future.groupby('dealer')['volume'].sum())\n",
    "    df_trader_vol = df_trader_vol.sort_values(by='volume', ascending=False)\n",
    "    return df_future[ df_future['dealer'].isin(df_trader_vol.index[:n])]\n",
    "\n",
    "    df_trader_vol['volume'][n]\n",
    "    "
   ]
  },
  {
   "cell_type": "code",
   "execution_count": 5,
   "id": "756f4f0b",
   "metadata": {},
   "outputs": [
    {
     "name": "stdout",
     "output_type": "stream",
     "text": [
      "<class 'pandas.core.frame.DataFrame'>\n",
      "Index: 32068 entries, 0 to 46302\n",
      "Data columns (total 9 columns):\n",
      " #   Column         Non-Null Count  Dtype         \n",
      "---  ------         --------------  -----         \n",
      " 0   dealer         32068 non-null  object        \n",
      " 1   volume         32068 non-null  float64       \n",
      " 2   volchange      32068 non-null  float64       \n",
      " 3   buyvol         32068 non-null  float64       \n",
      " 4   buyvolchange   32068 non-null  float64       \n",
      " 5   sellvol        32068 non-null  float64       \n",
      " 6   sellvolchange  32068 non-null  float64       \n",
      " 7   net_vol_diff   32068 non-null  int64         \n",
      " 8   datetime       32068 non-null  datetime64[ns]\n",
      "dtypes: datetime64[ns](1), float64(6), int64(1), object(1)\n",
      "memory usage: 2.4+ MB\n",
      "None\n"
     ]
    }
   ],
   "source": [
    "df_future= read_idx_future()\n",
    "df_future_top=get_idx_future_top_traders(df_future,50)\n",
    "print(df_future_top.info())"
   ]
  },
  {
   "cell_type": "code",
   "execution_count": 18,
   "id": "16dfd3f1",
   "metadata": {},
   "outputs": [
    {
     "name": "stderr",
     "output_type": "stream",
     "text": [
      "C:\\Users\\mingl\\AppData\\Local\\Temp\\ipykernel_4920\\387751730.py:2: FutureWarning: YF.download() has changed argument auto_adjust default to True\n",
      "  df_idx =yf.download('000300.SS', start='2021-01-04')\n",
      "[*********************100%***********************]  1 of 1 completed"
     ]
    },
    {
     "name": "stdout",
     "output_type": "stream",
     "text": [
      "Price             Close         High          Low         Open  Volume  \\\n",
      "Date                                                                     \n",
      "2021-03-11  5128.220215  5138.410156  5020.580078  5024.560059  189600   \n",
      "2021-03-12  5146.379883  5153.669922  5086.819824  5153.669922  201000   \n",
      "2021-03-15  5035.540039  5120.879883  4992.399902  5116.120117  204200   \n",
      "2021-03-16  5079.359863  5084.310059  5009.950195  5054.410156  161400   \n",
      "2021-03-17  5100.859863  5123.549805  5020.129883  5062.770020  149200   \n",
      "\n",
      "Price       next_day_ret  \n",
      "Date                      \n",
      "2021-03-11      0.003541  \n",
      "2021-03-12     -0.021537  \n",
      "2021-03-15      0.008702  \n",
      "2021-03-16      0.004233  \n",
      "2021-03-17      0.008020  \n"
     ]
    },
    {
     "name": "stderr",
     "output_type": "stream",
     "text": [
      "\n"
     ]
    }
   ],
   "source": [
    "import yfinance as yf\n",
    "df_idx =yf.download('000300.SS', start='2021-01-04')\n",
    "df_idx = df_idx.droplevel('Ticker',axis=1)\n",
    "df_idx['next_day_ret'] =df_idx['Close'].pct_change().shift(-1)\n",
    "print(df_idx.head())"
   ]
  },
  {
   "cell_type": "markdown",
   "id": "a9803838",
   "metadata": {},
   "source": [
    "### check out if the net-future-vol is correlated to the next day's sp_idx"
   ]
  },
  {
   "cell_type": "code",
   "execution_count": 7,
   "id": "11465277",
   "metadata": {},
   "outputs": [
    {
     "name": "stdout",
     "output_type": "stream",
     "text": [
      "      dealer  correlation  abs_correlation\n",
      "0        all     0.105648         0.105648\n",
      "1       一德期货     0.007622         0.007622\n",
      "2       上海东证    -0.016096         0.016096\n",
      "3       东兴期货     0.075958         0.075958\n",
      "4       中信建投     0.027979         0.027979\n",
      "5       中信期货     0.033532         0.033532\n",
      "6       中金期货     0.033352         0.033352\n",
      "7       五矿经易    -0.113103         0.113103\n",
      "8       光大期货    -0.003351         0.003351\n",
      "9       兴证期货     0.004693         0.004693\n",
      "10      华泰期货     0.018167         0.018167\n",
      "11      华西期货    -0.012067         0.012067\n",
      "12      华闻期货     0.123213         0.123213\n",
      "13      南华期货     0.001741         0.001741\n",
      "14      国信期货    -0.015223         0.015223\n",
      "15      国富期货    -0.004155         0.004155\n",
      "16      国投安信     0.077051         0.077051\n",
      "17      国泰君安    -0.062369         0.062369\n",
      "18      平安期货    -0.025382         0.025382\n",
      "19      广发期货     0.012736         0.012736\n",
      "20      招商期货     0.011005         0.011005\n",
      "21      方正中期     0.003144         0.003144\n",
      "22      永安期货     0.011814         0.011814\n",
      "23      浙商期货     0.093881         0.093881\n",
      "24      海证期货    -0.043017         0.043017\n",
      "25      海通期货    -0.032819         0.032819\n",
      "26      瑞达期货     0.100284         0.100284\n",
      "27      申银万国     0.018794         0.018794\n",
      "28      西部期货    -0.017657         0.017657\n",
      "29      银河期货     0.046990         0.046990\n",
      "30      鲁证期货     0.009338         0.009338\n",
      "31      东海期货    -0.012712         0.012712\n",
      "32      中银期货     0.026234         0.026234\n",
      "33      宝城期货     0.052736         0.052736\n",
      "34      五矿期货     0.009572         0.009572\n",
      "35      中泰期货    -0.003273         0.003273\n",
      "36      中金财富    -0.031474         0.031474\n",
      "37      东证期货     0.054026         0.054026\n",
      "38  东证期货(经纪)    -0.040506         0.040506\n",
      "39  中信建投(经纪)    -0.105545         0.105545\n",
      "40  中信期货(经纪)     0.317184         0.317184\n",
      "41  光大期货(经纪)    -0.015352         0.015352\n",
      "42  华泰期货(经纪)    -0.222777         0.222777\n",
      "43  华闻期货(经纪)     0.033698         0.033698\n",
      "44  国信期货(经纪)    -0.024180         0.024180\n",
      "45  国泰君安(经纪)    -0.177632         0.177632\n",
      "46  广发期货(经纪)     0.157701         0.157701\n",
      "47  海通期货(经纪)     0.223443         0.223443\n",
      "48  申银万国(经纪)     0.262263         0.262263\n",
      "49  银河期货(经纪)     0.135244         0.135244\n",
      "50      国投期货    -0.086918         0.086918\n"
     ]
    }
   ],
   "source": [
    "import math\n",
    "def cal_corr(df_idx, df_future):\n",
    "    df_future_net_vol=df_future.groupby('datetime')['net_vol_diff'].sum()\n",
    "    df_future_net_vol=pd.DataFrame(df_future_net_vol)\n",
    "    df_future_net_vol.index =pd.to_datetime(df_future_net_vol.index, format='%Y%m%d')\n",
    "    df_future_net_vol['last_net_future_vol'] =df_future_net_vol['net_vol_diff'].shift(1)\n",
    "    return df_idx['Close'].corr(df_future_net_vol['last_net_future_vol'])\n",
    "\n",
    "df_corr =pd.DataFrame(columns=['dealer', 'correlation'])\n",
    "#print(cal_corr(df_idx,df_future))\n",
    "df_corr.loc[len(df_corr)] ={'dealer':'all', 'correlation':cal_corr(df_idx,df_future)}\n",
    "\n",
    "for dealer in df_future_top['dealer'].unique():\n",
    "    df_future_by_dealer=df_future[df_future['dealer']==dealer].copy()\n",
    "    df_future_by_dealer.dropna(inplace=True)\n",
    "    \n",
    "    df_corr.loc[len(df_corr)] ={'dealer':dealer, 'correlation':cal_corr(df_idx,df_future_by_dealer)}\n",
    "\n",
    "df_corr['abs_correlation'] =abs(df_corr['correlation'])\n",
    "print(df_corr)"
   ]
  },
  {
   "cell_type": "code",
   "execution_count": 8,
   "id": "ea7ee931",
   "metadata": {},
   "outputs": [
    {
     "name": "stderr",
     "output_type": "stream",
     "text": [
      "C:\\Users\\mingl\\AppData\\Local\\Temp\\ipykernel_4920\\1325618401.py:6: UserWarning: Glyph 8722 (\\N{MINUS SIGN}) missing from font(s) SimHei.\n",
      "  plt.tight_layout()\n",
      "d:\\PythonEnvs\\qlib\\Lib\\site-packages\\IPython\\core\\pylabtools.py:170: UserWarning: Glyph 8722 (\\N{MINUS SIGN}) missing from font(s) SimHei.\n",
      "  fig.canvas.print_figure(bytes_io, **kw)\n"
     ]
    },
    {
     "data": {
      "image/png": "[encoded data removed]",
      "text/plain": [
       "<Figure size 2000x600 with 1 Axes>"
      ]
     },
     "metadata": {},
     "output_type": "display_data"
    }
   ],
   "source": [
    "\n",
    "plt.figure(figsize=(20, 6))\n",
    "sns.barplot(data=df_corr, x='dealer', y='correlation', color='skyblue')\n",
    "sns.barplot(data=df_corr, x='dealer', y='abs_correlation', color='red')\n",
    "\n",
    "plt.xticks(rotation=45, ha='right')\n",
    "plt.tight_layout()\n",
    "plt.show()"
   ]
  },
  {
   "cell_type": "code",
   "execution_count": 11,
   "id": "0e553ce6",
   "metadata": {},
   "outputs": [
    {
     "name": "stdout",
     "output_type": "stream",
     "text": [
      "  dealer   volume  volchange   buyvol  buyvolchange  sellvol  sellvolchange  \\\n",
      "0   一德期货   1244.0       71.0  10270.0        -220.0      0.0            0.0   \n",
      "1   上海东证  11453.0     1641.0   6165.0        -174.0  20206.0         -173.0   \n",
      "3   东兴期货   6661.0     -748.0   2287.0         -74.0   1737.0          -32.0   \n",
      "5   中信建投   2789.0     -521.0   1530.0        -235.0   5910.0         -266.0   \n",
      "6   中信期货  17629.0    -1963.0  14846.0        -922.0  26386.0        -1033.0   \n",
      "\n",
      "   net_vol_diff   datetime  \n",
      "0          -220 2021-01-04  \n",
      "1            -1 2021-01-04  \n",
      "3           -42 2021-01-04  \n",
      "5            31 2021-01-04  \n",
      "6           111 2021-01-04  \n"
     ]
    }
   ],
   "source": [
    "print(df_future_top.head())"
   ]
  },
  {
   "cell_type": "code",
   "execution_count": 25,
   "id": "cc0b27ee",
   "metadata": {},
   "outputs": [],
   "source": [
    "df_future_pivot=df_future_top.pivot(index='datetime', columns='dealer', values='net_vol_diff')\n",
    "df_future_pivot=df_future_pivot.fillna(0)"
   ]
  },
  {
   "cell_type": "code",
   "execution_count": 30,
   "id": "b6d6542c",
   "metadata": {},
   "outputs": [],
   "source": [
    "df_idx_with_future_trades =df_idx.merge(df_future_pivot, left_index=True, right_index=True, how='outer')\n",
    "df_idx_with_future_trades.dropna(inplace=True)\n"
   ]
  },
  {
   "cell_type": "code",
   "execution_count": 31,
   "id": "21212544",
   "metadata": {},
   "outputs": [
    {
     "name": "stdout",
     "output_type": "stream",
     "text": [
      "                  Close        High          Low         Open    Volume  \\\n",
      "2025-06-20  3846.639893  3856.47998  3839.780029  3839.780029  118200.0   \n",
      "\n",
      "            next_day_ret   一德期货  上海东证  东兴期货  东海期货  ...  海证期货   海通期货  海通期货(经纪)  \\\n",
      "2025-06-20     -0.002149 -106.0   0.0   0.0   7.0  ...   0.0 -133.0       0.0   \n",
      "\n",
      "            瑞达期货   申银万国  申银万国(经纪)  西部期货   银河期货  银河期货(经纪)  鲁证期货  \n",
      "2025-06-20   0.0 -618.0       0.0   0.0  157.0       0.0   0.0  \n",
      "\n",
      "[1 rows x 56 columns]\n"
     ]
    }
   ],
   "source": [
    "print(df_idx_with_future_trades.tail(1))"
   ]
  },
  {
   "cell_type": "markdown",
   "id": "367fa41d",
   "metadata": {},
   "source": [
    "### do ML/AI"
   ]
  },
  {
   "cell_type": "code",
   "execution_count": 37,
   "id": "b75d3ba0",
   "metadata": {},
   "outputs": [],
   "source": [
    "import pandas as pd\n",
    "import matplotlib.pyplot as plt\n",
    "\n",
    "from sklearn.ensemble import VotingRegressor\n",
    "from sklearn.pipeline import Pipeline\n",
    "from sklearn.datasets import fetch_openml\n",
    "from sklearn.model_selection import train_test_split, GridSearchCV\n",
    "from sklearn.preprocessing import StandardScaler\n",
    "from sklearn.linear_model import LinearRegression, Ridge\n",
    "from sklearn.compose import TransformedTargetRegressor\n",
    "from sklearn.neighbors import KNeighborsRegressor\n",
    "from sklearn.tree import DecisionTreeRegressor\n",
    "from sklearn.svm import SVR\n",
    "from sklearn.metrics import mean_squared_error\n",
    "from sklearn.inspection import permutation_importance\n",
    "import numpy as np\n",
    "\n",
    "import matplotlib.pyplot as plt\n",
    "\n",
    "from sklearn.ensemble import VotingRegressor\n",
    "from sklearn.pipeline import Pipeline\n",
    "from sklearn.datasets import fetch_openml"
   ]
  },
  {
   "cell_type": "code",
   "execution_count": 45,
   "id": "d97a3d5f",
   "metadata": {},
   "outputs": [],
   "source": [
    "\n",
    "X= df_idx_with_future_trades.drop(columns=['next_day_ret','Close','High','Low','Open','Volume'])\n",
    "y=df_idx_with_future_trades['next_day_ret']\n",
    "X_train, X_test, y_train, y_test = train_test_split(X, y, test_size=0.2, random_state=42)"
   ]
  },
  {
   "cell_type": "code",
   "execution_count": 46,
   "id": "6d791954",
   "metadata": {},
   "outputs": [
    {
     "name": "stdout",
     "output_type": "stream",
     "text": [
      "             一德期货    上海东证  东兴期货  东海期货   东证期货  东证期货(经纪)   中信建投  中信建投(经纪)  \\\n",
      "2024-07-08    0.0     0.0   0.0  -1.0  358.0       0.0   -5.0       0.0   \n",
      "2023-01-06  243.0  -336.0 -83.0  91.0    0.0       0.0   -9.0       0.0   \n",
      "2021-08-19   13.0   571.0  98.0   0.0    0.0       0.0 -183.0       0.0   \n",
      "2025-01-14  208.0     0.0   0.0  35.0  223.0       0.0  -34.0       0.0   \n",
      "2022-08-26   15.0  1412.0  23.0   0.0    0.0       0.0   -3.0       0.0   \n",
      "\n",
      "             中信期货  中信期货(经纪)  ...   海证期货   海通期货  海通期货(经纪)   瑞达期货   申银万国  \\\n",
      "2024-07-08  271.0       0.0  ...    0.0   88.0       0.0    0.0 -308.0   \n",
      "2023-01-06 -411.0       0.0  ...    0.0 -141.0       0.0    0.0  411.0   \n",
      "2021-08-19  -87.0       0.0  ...  332.0  285.0       0.0  105.0  -79.0   \n",
      "2025-01-14 -823.0       0.0  ...    0.0 -435.0       0.0    0.0  131.0   \n",
      "2022-08-26  217.0       0.0  ...    0.0 -135.0       0.0    0.0  233.0   \n",
      "\n",
      "            申银万国(经纪)  西部期货   银河期货  银河期货(经纪)   鲁证期货  \n",
      "2024-07-08       0.0   0.0  234.0       0.0    0.0  \n",
      "2023-01-06       0.0   0.0   20.0       0.0    0.0  \n",
      "2021-08-19       0.0  38.0  342.0       0.0 -203.0  \n",
      "2025-01-14       0.0   0.0 -852.0       0.0    0.0  \n",
      "2022-08-26       0.0   0.0   34.0       0.0    0.0  \n",
      "\n",
      "[5 rows x 50 columns]\n"
     ]
    }
   ],
   "source": [
    "print(X_train.head())"
   ]
  },
  {
   "cell_type": "code",
   "execution_count": 47,
   "id": "e4b1f9b9",
   "metadata": {},
   "outputs": [
    {
     "name": "stdout",
     "output_type": "stream",
     "text": [
      "2024-07-08    0.011185\n",
      "2023-01-06    0.008096\n",
      "2021-08-19   -0.019101\n",
      "2025-01-14   -0.006415\n",
      "2022-08-26   -0.004389\n",
      "                ...   \n",
      "2021-07-19   -0.000880\n",
      "2022-07-20   -0.011144\n",
      "2023-02-13    0.000415\n",
      "2021-09-03    0.018722\n",
      "2024-09-24    0.014804\n",
      "Name: next_day_ret, Length: 829, dtype: float64\n"
     ]
    }
   ],
   "source": [
    "print(y_train)"
   ]
  },
  {
   "cell_type": "code",
   "execution_count": 48,
   "id": "7d8cc805",
   "metadata": {},
   "outputs": [],
   "source": [
    "models = {\n",
    "    'LinearRegression': Pipeline([\n",
    "        ('scaler', StandardScaler()),\n",
    "        ('lr', LinearRegression())]),\n",
    "\n",
    "    'RidgeRegression': Pipeline([\n",
    "        ('scaler', StandardScaler()),\n",
    "        ('ridge', Ridge())]),\n",
    "    'KnnRegressor': Pipeline([\n",
    "        ('scaler', StandardScaler()),\n",
    "        ('knn', KNeighborsRegressor())]),\n",
    "    'DecisionTreeRegressor': Pipeline([\n",
    "        ('scaler', StandardScaler()),\n",
    "        ('dt', DecisionTreeRegressor())]),\n",
    "    'SupportVectorRegressor': Pipeline([\n",
    "        ('scaler', StandardScaler()),\n",
    "        ('svr', SVR())]),\n",
    "    'TransformedTargetRegressor': TransformedTargetRegressor(\n",
    "        regressor=LinearRegression(),\n",
    "        transformer=StandardScaler()\n",
    "    ),\n",
    "    \n",
    "}"
   ]
  },
  {
   "cell_type": "code",
   "execution_count": 54,
   "id": "24aefc08",
   "metadata": {},
   "outputs": [
    {
     "name": "stdout",
     "output_type": "stream",
     "text": [
      "LinearRegression: 0.00013800\n",
      "RidgeRegression: 0.00013790\n",
      "KnnRegressor: 0.00012377\n",
      "DecisionTreeRegressor: 0.00025099\n",
      "SupportVectorRegressor: 0.00016893\n",
      "TransformedTargetRegressor: 0.00013800\n"
     ]
    }
   ],
   "source": [
    "df_score = pd.DataFrame(columns=['Model', 'MSE'])\n",
    "for name, model in models.items():\n",
    "    model.fit(X_train, y_train)\n",
    "    y_pred = model.predict(X_test)\n",
    "    mse = mean_squared_error(y_test, y_pred)\n",
    "    print(f\"{name}: {mse:.8f}\")\n",
    "    df_score.loc[len(df_score)] = {'Model': name, 'MSE': mse}"
   ]
  },
  {
   "cell_type": "code",
   "execution_count": 56,
   "id": "c2e45a50",
   "metadata": {},
   "outputs": [],
   "source": [
    "voter = VotingRegressor(\n",
    "    estimators=[(name, model) for name, model in models.items()]\n",
    ")\n",
    "voter.fit(X_train, y_train)\n",
    "y_pred = voter.predict(X_test)\n",
    "mse = mean_squared_error(y_test, y_pred)\n",
    "\n",
    "df_score.loc[len(df_score)] = {'Model': 'VotingRegressor', 'MSE': mse}\n"
   ]
  },
  {
   "cell_type": "code",
   "execution_count": 57,
   "id": "7de5f3a5",
   "metadata": {},
   "outputs": [
    {
     "name": "stdout",
     "output_type": "stream",
     "text": [
      "                        Model       MSE\n",
      "0            LinearRegression  0.000138\n",
      "1             RidgeRegression  0.000138\n",
      "2                KnnRegressor  0.000124\n",
      "3       DecisionTreeRegressor  0.000251\n",
      "4      SupportVectorRegressor  0.000169\n",
      "5  TransformedTargetRegressor  0.000138\n",
      "6             VotingRegressor  0.000129\n",
      "7             VotingRegressor  0.000131\n"
     ]
    }
   ],
   "source": [
    "print(df_score)"
   ]
  },
  {
   "cell_type": "code",
   "execution_count": null,
   "id": "7214a03a",
   "metadata": {},
   "outputs": [
    {
     "name": "stdout",
     "output_type": "stream",
     "text": [
      "Fitting 5 folds for each of 5184 candidates, totalling 25920 fits\n",
      "Best parameters: {'DecisionTreeRegressor__dt__max_depth': 5, 'DecisionTreeRegressor__dt__min_samples_split': 2, 'KnnRegressor__knn__n_neighbors': 7, 'KnnRegressor__knn__weights': 'uniform', 'LinearRegression__lr__fit_intercept': False, 'RidgeRegression__ridge__alpha': 1.0, 'RidgeRegression__ridge__fit_intercept': True, 'SupportVectorRegressor__svr__C': 1.0, 'SupportVectorRegressor__svr__epsilon': 0.1, 'SupportVectorRegressor__svr__kernel': 'rbf'}\n",
      "Best score: -0.00013960148122517442\n"
     ]
    }
   ],
   "source": [
    "from sklearn.preprocessing import StandardScaler, PowerTransformer\n",
    "param_grid = {\n",
    "    'LinearRegression__lr__fit_intercept': [True, False],\n",
    "    'RidgeRegression__ridge__alpha': [0.1, 1.0, 10.0],\n",
    "    'RidgeRegression__ridge__fit_intercept': [True, False],\n",
    "    'KnnRegressor__knn__n_neighbors': [3, 5, 7],\n",
    "    'KnnRegressor__knn__weights': ['uniform', 'distance'],\n",
    "    'DecisionTreeRegressor__dt__max_depth': [None, 5, 10],\n",
    "    'DecisionTreeRegressor__dt__min_samples_split': [2, 5],\n",
    "    'SupportVectorRegressor__svr__C': [0.1, 1.0, 10.0],\n",
    "    'SupportVectorRegressor__svr__kernel': ['rbf', 'linear'],\n",
    "    'SupportVectorRegressor__svr__epsilon': [0.1, 0.2],\n",
    "    'TransformedTargetRegressor__regressor__fit_intercept': [True, False],\n",
    "    'TransformedTargetRegressor__transformer': [StandardScaler(), PowerTransformer(method='yeo-johnson'), None],\n",
    "\n",
    "    #'weights': [[1, 1, 1, 1, 1], [2, 1, 1, 1, 1], [1, 2, 1, 1, 1], [1, 1, 2, 1, 1], [1, 1, 1, 2, 1], [1, 1, 1, 1, 2]]\n",
    "}\n",
    "grid_search = GridSearchCV(\n",
    "        estimator=voter,\n",
    "        param_grid=param_grid,\n",
    "        cv=5,\n",
    "        scoring='neg_mean_squared_error',\n",
    "        n_jobs=-1,\n",
    "        verbose=1\n",
    "    )\n",
    "grid_search.fit(X_train, y_train)\n",
    "results = {\n",
    "    'best_score': grid_search.best_score_,\n",
    "    'best_params': grid_search.best_params_,\n",
    "    'best_estimator': grid_search.best_estimator_\n",
    "}\n",
    "print(f\"Best parameters: {grid_search.best_params_}\")\n",
    "print(f\"Best score: {grid_search.best_score_}\")"
   ]
  }
 ],
 "metadata": {
  "kernelspec": {
   "display_name": "qlib",
   "language": "python",
   "name": "python3"
  },
  "language_info": {
   "codemirror_mode": {
    "name": "ipython",
    "version": 3
   },
   "file_extension": ".py",
   "mimetype": "text/x-python",
   "name": "python",
   "nbconvert_exporter": "python",
   "pygments_lexer": "ipython3",
   "version": "3.11.9"
  }
 },
 "nbformat": 4,
 "nbformat_minor": 5
}
